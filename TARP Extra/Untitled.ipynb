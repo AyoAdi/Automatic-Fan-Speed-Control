{
 "cells": [
  {
   "cell_type": "code",
   "execution_count": 3,
   "id": "41eadb70-9cd1-4c41-a8f9-11c78e664239",
   "metadata": {},
   "outputs": [
    {
     "name": "stderr",
     "output_type": "stream",
     "text": [
      "\n",
      "A module that was compiled using NumPy 1.x cannot be run in\n",
      "NumPy 2.1.3 as it may crash. To support both 1.x and 2.x\n",
      "versions of NumPy, modules must be compiled with NumPy 2.0.\n",
      "Some module may need to rebuild instead e.g. with 'pybind11>=2.12'.\n",
      "\n",
      "If you are a user of the module, the easiest solution will be to\n",
      "downgrade to 'numpy<2' or try to upgrade the affected module.\n",
      "We expect that some modules will need time to support NumPy 2.\n",
      "\n",
      "Traceback (most recent call last):  File \"<frozen runpy>\", line 198, in _run_module_as_main\n",
      "  File \"<frozen runpy>\", line 88, in _run_code\n",
      "  File \"/opt/anaconda3/lib/python3.12/site-packages/ipykernel_launcher.py\", line 17, in <module>\n",
      "    app.launch_new_instance()\n",
      "  File \"/opt/anaconda3/lib/python3.12/site-packages/traitlets/config/application.py\", line 1075, in launch_instance\n",
      "    app.start()\n",
      "  File \"/opt/anaconda3/lib/python3.12/site-packages/ipykernel/kernelapp.py\", line 701, in start\n",
      "    self.io_loop.start()\n",
      "  File \"/opt/anaconda3/lib/python3.12/site-packages/tornado/platform/asyncio.py\", line 205, in start\n",
      "    self.asyncio_loop.run_forever()\n",
      "  File \"/opt/anaconda3/lib/python3.12/asyncio/base_events.py\", line 641, in run_forever\n",
      "    self._run_once()\n",
      "  File \"/opt/anaconda3/lib/python3.12/asyncio/base_events.py\", line 1986, in _run_once\n",
      "    handle._run()\n",
      "  File \"/opt/anaconda3/lib/python3.12/asyncio/events.py\", line 88, in _run\n",
      "    self._context.run(self._callback, *self._args)\n",
      "  File \"/opt/anaconda3/lib/python3.12/site-packages/ipykernel/kernelbase.py\", line 534, in dispatch_queue\n",
      "    await self.process_one()\n",
      "  File \"/opt/anaconda3/lib/python3.12/site-packages/ipykernel/kernelbase.py\", line 523, in process_one\n",
      "    await dispatch(*args)\n",
      "  File \"/opt/anaconda3/lib/python3.12/site-packages/ipykernel/kernelbase.py\", line 429, in dispatch_shell\n",
      "    await result\n",
      "  File \"/opt/anaconda3/lib/python3.12/site-packages/ipykernel/kernelbase.py\", line 767, in execute_request\n",
      "    reply_content = await reply_content\n",
      "  File \"/opt/anaconda3/lib/python3.12/site-packages/ipykernel/ipkernel.py\", line 429, in do_execute\n",
      "    res = shell.run_cell(\n",
      "  File \"/opt/anaconda3/lib/python3.12/site-packages/ipykernel/zmqshell.py\", line 549, in run_cell\n",
      "    return super().run_cell(*args, **kwargs)\n",
      "  File \"/opt/anaconda3/lib/python3.12/site-packages/IPython/core/interactiveshell.py\", line 3075, in run_cell\n",
      "    result = self._run_cell(\n",
      "  File \"/opt/anaconda3/lib/python3.12/site-packages/IPython/core/interactiveshell.py\", line 3130, in _run_cell\n",
      "    result = runner(coro)\n",
      "  File \"/opt/anaconda3/lib/python3.12/site-packages/IPython/core/async_helpers.py\", line 128, in _pseudo_sync_runner\n",
      "    coro.send(None)\n",
      "  File \"/opt/anaconda3/lib/python3.12/site-packages/IPython/core/interactiveshell.py\", line 3334, in run_cell_async\n",
      "    has_raised = await self.run_ast_nodes(code_ast.body, cell_name,\n",
      "  File \"/opt/anaconda3/lib/python3.12/site-packages/IPython/core/interactiveshell.py\", line 3517, in run_ast_nodes\n",
      "    if await self.run_code(code, result, async_=asy):\n",
      "  File \"/opt/anaconda3/lib/python3.12/site-packages/IPython/core/interactiveshell.py\", line 3577, in run_code\n",
      "    exec(code_obj, self.user_global_ns, self.user_ns)\n",
      "  File \"/var/folders/2q/zq8vjxdn4g11qpfxqm61qv8m0000gn/T/ipykernel_13279/4189246039.py\", line 3, in <module>\n",
      "    import matplotlib.pyplot as plt\n",
      "  File \"/opt/anaconda3/lib/python3.12/site-packages/matplotlib/__init__.py\", line 159, in <module>\n",
      "    from . import _api, _version, cbook, _docstring, rcsetup\n",
      "  File \"/opt/anaconda3/lib/python3.12/site-packages/matplotlib/rcsetup.py\", line 28, in <module>\n",
      "    from matplotlib.colors import Colormap, is_color_like\n",
      "  File \"/opt/anaconda3/lib/python3.12/site-packages/matplotlib/colors.py\", line 57, in <module>\n",
      "    from matplotlib import _api, _cm, cbook, scale\n",
      "  File \"/opt/anaconda3/lib/python3.12/site-packages/matplotlib/scale.py\", line 22, in <module>\n",
      "    from matplotlib.ticker import (\n",
      "  File \"/opt/anaconda3/lib/python3.12/site-packages/matplotlib/ticker.py\", line 144, in <module>\n",
      "    from matplotlib import transforms as mtransforms\n",
      "  File \"/opt/anaconda3/lib/python3.12/site-packages/matplotlib/transforms.py\", line 49, in <module>\n",
      "    from matplotlib._path import (\n"
     ]
    },
    {
     "ename": "ImportError",
     "evalue": "\nA module that was compiled using NumPy 1.x cannot be run in\nNumPy 2.1.3 as it may crash. To support both 1.x and 2.x\nversions of NumPy, modules must be compiled with NumPy 2.0.\nSome module may need to rebuild instead e.g. with 'pybind11>=2.12'.\n\nIf you are a user of the module, the easiest solution will be to\ndowngrade to 'numpy<2' or try to upgrade the affected module.\nWe expect that some modules will need time to support NumPy 2.\n\n",
     "output_type": "error",
     "traceback": [
      "\u001b[0;31m---------------------------------------------------------------------------\u001b[0m",
      "\u001b[0;31mImportError\u001b[0m                               Traceback (most recent call last)",
      "File \u001b[0;32m/opt/anaconda3/lib/python3.12/site-packages/numpy/core/_multiarray_umath.py:44\u001b[0m, in \u001b[0;36m__getattr__\u001b[0;34m(attr_name)\u001b[0m\n\u001b[1;32m     39\u001b[0m     \u001b[38;5;66;03m# Also print the message (with traceback).  This is because old versions\u001b[39;00m\n\u001b[1;32m     40\u001b[0m     \u001b[38;5;66;03m# of NumPy unfortunately set up the import to replace (and hide) the\u001b[39;00m\n\u001b[1;32m     41\u001b[0m     \u001b[38;5;66;03m# error.  The traceback shouldn't be needed, but e.g. pytest plugins\u001b[39;00m\n\u001b[1;32m     42\u001b[0m     \u001b[38;5;66;03m# seem to swallow it and we should be failing anyway...\u001b[39;00m\n\u001b[1;32m     43\u001b[0m     sys\u001b[38;5;241m.\u001b[39mstderr\u001b[38;5;241m.\u001b[39mwrite(msg \u001b[38;5;241m+\u001b[39m tb_msg)\n\u001b[0;32m---> 44\u001b[0m     \u001b[38;5;28;01mraise\u001b[39;00m \u001b[38;5;167;01mImportError\u001b[39;00m(msg)\n\u001b[1;32m     46\u001b[0m ret \u001b[38;5;241m=\u001b[39m \u001b[38;5;28mgetattr\u001b[39m(_multiarray_umath, attr_name, \u001b[38;5;28;01mNone\u001b[39;00m)\n\u001b[1;32m     47\u001b[0m \u001b[38;5;28;01mif\u001b[39;00m ret \u001b[38;5;129;01mis\u001b[39;00m \u001b[38;5;28;01mNone\u001b[39;00m:\n",
      "\u001b[0;31mImportError\u001b[0m: \nA module that was compiled using NumPy 1.x cannot be run in\nNumPy 2.1.3 as it may crash. To support both 1.x and 2.x\nversions of NumPy, modules must be compiled with NumPy 2.0.\nSome module may need to rebuild instead e.g. with 'pybind11>=2.12'.\n\nIf you are a user of the module, the easiest solution will be to\ndowngrade to 'numpy<2' or try to upgrade the affected module.\nWe expect that some modules will need time to support NumPy 2.\n\n"
     ]
    },
    {
     "ename": "ImportError",
     "evalue": "initialization failed",
     "output_type": "error",
     "traceback": [
      "\u001b[0;31m---------------------------------------------------------------------------\u001b[0m",
      "\u001b[0;31mImportError\u001b[0m                               Traceback (most recent call last)",
      "\u001b[0;31mImportError\u001b[0m: numpy.core.multiarray failed to import",
      "\nThe above exception was the direct cause of the following exception:\n",
      "\u001b[0;31mImportError\u001b[0m                               Traceback (most recent call last)",
      "Cell \u001b[0;32mIn[3], line 3\u001b[0m\n\u001b[1;32m      1\u001b[0m \u001b[38;5;28;01mimport\u001b[39;00m \u001b[38;5;21;01mpandas\u001b[39;00m \u001b[38;5;28;01mas\u001b[39;00m \u001b[38;5;21;01mpd\u001b[39;00m \n\u001b[1;32m      2\u001b[0m \u001b[38;5;28;01mimport\u001b[39;00m \u001b[38;5;21;01mnumpy\u001b[39;00m \u001b[38;5;28;01mas\u001b[39;00m \u001b[38;5;21;01mnp\u001b[39;00m \n\u001b[0;32m----> 3\u001b[0m \u001b[38;5;28;01mimport\u001b[39;00m \u001b[38;5;21;01mmatplotlib\u001b[39;00m\u001b[38;5;21;01m.\u001b[39;00m\u001b[38;5;21;01mpyplot\u001b[39;00m \u001b[38;5;28;01mas\u001b[39;00m \u001b[38;5;21;01mplt\u001b[39;00m \n\u001b[1;32m      4\u001b[0m \u001b[38;5;28;01mimport\u001b[39;00m \u001b[38;5;21;01mseaborn\u001b[39;00m \u001b[38;5;28;01mas\u001b[39;00m \u001b[38;5;21;01msns\u001b[39;00m \n\u001b[1;32m      5\u001b[0m \u001b[38;5;28;01mfrom\u001b[39;00m \u001b[38;5;21;01msklearn\u001b[39;00m\u001b[38;5;21;01m.\u001b[39;00m\u001b[38;5;21;01mfeature_selection\u001b[39;00m \u001b[38;5;28;01mimport\u001b[39;00m chi2\n",
      "File \u001b[0;32m/opt/anaconda3/lib/python3.12/site-packages/matplotlib/__init__.py:159\u001b[0m\n\u001b[1;32m    155\u001b[0m \u001b[38;5;28;01mfrom\u001b[39;00m \u001b[38;5;21;01mpackaging\u001b[39;00m\u001b[38;5;21;01m.\u001b[39;00m\u001b[38;5;21;01mversion\u001b[39;00m \u001b[38;5;28;01mimport\u001b[39;00m parse \u001b[38;5;28;01mas\u001b[39;00m parse_version\n\u001b[1;32m    157\u001b[0m \u001b[38;5;66;03m# cbook must import matplotlib only within function\u001b[39;00m\n\u001b[1;32m    158\u001b[0m \u001b[38;5;66;03m# definitions, so it is safe to import from it here.\u001b[39;00m\n\u001b[0;32m--> 159\u001b[0m \u001b[38;5;28;01mfrom\u001b[39;00m \u001b[38;5;21;01m.\u001b[39;00m \u001b[38;5;28;01mimport\u001b[39;00m _api, _version, cbook, _docstring, rcsetup\n\u001b[1;32m    160\u001b[0m \u001b[38;5;28;01mfrom\u001b[39;00m \u001b[38;5;21;01mmatplotlib\u001b[39;00m\u001b[38;5;21;01m.\u001b[39;00m\u001b[38;5;21;01mcbook\u001b[39;00m \u001b[38;5;28;01mimport\u001b[39;00m sanitize_sequence\n\u001b[1;32m    161\u001b[0m \u001b[38;5;28;01mfrom\u001b[39;00m \u001b[38;5;21;01mmatplotlib\u001b[39;00m\u001b[38;5;21;01m.\u001b[39;00m\u001b[38;5;21;01m_api\u001b[39;00m \u001b[38;5;28;01mimport\u001b[39;00m MatplotlibDeprecationWarning\n",
      "File \u001b[0;32m/opt/anaconda3/lib/python3.12/site-packages/matplotlib/rcsetup.py:28\u001b[0m\n\u001b[1;32m     26\u001b[0m \u001b[38;5;28;01mfrom\u001b[39;00m \u001b[38;5;21;01mmatplotlib\u001b[39;00m\u001b[38;5;21;01m.\u001b[39;00m\u001b[38;5;21;01mbackends\u001b[39;00m \u001b[38;5;28;01mimport\u001b[39;00m BackendFilter, backend_registry\n\u001b[1;32m     27\u001b[0m \u001b[38;5;28;01mfrom\u001b[39;00m \u001b[38;5;21;01mmatplotlib\u001b[39;00m\u001b[38;5;21;01m.\u001b[39;00m\u001b[38;5;21;01mcbook\u001b[39;00m \u001b[38;5;28;01mimport\u001b[39;00m ls_mapper\n\u001b[0;32m---> 28\u001b[0m \u001b[38;5;28;01mfrom\u001b[39;00m \u001b[38;5;21;01mmatplotlib\u001b[39;00m\u001b[38;5;21;01m.\u001b[39;00m\u001b[38;5;21;01mcolors\u001b[39;00m \u001b[38;5;28;01mimport\u001b[39;00m Colormap, is_color_like\n\u001b[1;32m     29\u001b[0m \u001b[38;5;28;01mfrom\u001b[39;00m \u001b[38;5;21;01mmatplotlib\u001b[39;00m\u001b[38;5;21;01m.\u001b[39;00m\u001b[38;5;21;01m_fontconfig_pattern\u001b[39;00m \u001b[38;5;28;01mimport\u001b[39;00m parse_fontconfig_pattern\n\u001b[1;32m     30\u001b[0m \u001b[38;5;28;01mfrom\u001b[39;00m \u001b[38;5;21;01mmatplotlib\u001b[39;00m\u001b[38;5;21;01m.\u001b[39;00m\u001b[38;5;21;01m_enums\u001b[39;00m \u001b[38;5;28;01mimport\u001b[39;00m JoinStyle, CapStyle\n",
      "File \u001b[0;32m/opt/anaconda3/lib/python3.12/site-packages/matplotlib/colors.py:57\u001b[0m\n\u001b[1;32m     55\u001b[0m \u001b[38;5;28;01mimport\u001b[39;00m \u001b[38;5;21;01mmatplotlib\u001b[39;00m \u001b[38;5;28;01mas\u001b[39;00m \u001b[38;5;21;01mmpl\u001b[39;00m\n\u001b[1;32m     56\u001b[0m \u001b[38;5;28;01mimport\u001b[39;00m \u001b[38;5;21;01mnumpy\u001b[39;00m \u001b[38;5;28;01mas\u001b[39;00m \u001b[38;5;21;01mnp\u001b[39;00m\n\u001b[0;32m---> 57\u001b[0m \u001b[38;5;28;01mfrom\u001b[39;00m \u001b[38;5;21;01mmatplotlib\u001b[39;00m \u001b[38;5;28;01mimport\u001b[39;00m _api, _cm, cbook, scale\n\u001b[1;32m     58\u001b[0m \u001b[38;5;28;01mfrom\u001b[39;00m \u001b[38;5;21;01m.\u001b[39;00m\u001b[38;5;21;01m_color_data\u001b[39;00m \u001b[38;5;28;01mimport\u001b[39;00m BASE_COLORS, TABLEAU_COLORS, CSS4_COLORS, XKCD_COLORS\n\u001b[1;32m     61\u001b[0m \u001b[38;5;28;01mclass\u001b[39;00m \u001b[38;5;21;01m_ColorMapping\u001b[39;00m(\u001b[38;5;28mdict\u001b[39m):\n",
      "File \u001b[0;32m/opt/anaconda3/lib/python3.12/site-packages/matplotlib/scale.py:22\u001b[0m\n\u001b[1;32m     20\u001b[0m \u001b[38;5;28;01mimport\u001b[39;00m \u001b[38;5;21;01mmatplotlib\u001b[39;00m \u001b[38;5;28;01mas\u001b[39;00m \u001b[38;5;21;01mmpl\u001b[39;00m\n\u001b[1;32m     21\u001b[0m \u001b[38;5;28;01mfrom\u001b[39;00m \u001b[38;5;21;01mmatplotlib\u001b[39;00m \u001b[38;5;28;01mimport\u001b[39;00m _api, _docstring\n\u001b[0;32m---> 22\u001b[0m \u001b[38;5;28;01mfrom\u001b[39;00m \u001b[38;5;21;01mmatplotlib\u001b[39;00m\u001b[38;5;21;01m.\u001b[39;00m\u001b[38;5;21;01mticker\u001b[39;00m \u001b[38;5;28;01mimport\u001b[39;00m (\n\u001b[1;32m     23\u001b[0m     NullFormatter, ScalarFormatter, LogFormatterSciNotation, LogitFormatter,\n\u001b[1;32m     24\u001b[0m     NullLocator, LogLocator, AutoLocator, AutoMinorLocator,\n\u001b[1;32m     25\u001b[0m     SymmetricalLogLocator, AsinhLocator, LogitLocator)\n\u001b[1;32m     26\u001b[0m \u001b[38;5;28;01mfrom\u001b[39;00m \u001b[38;5;21;01mmatplotlib\u001b[39;00m\u001b[38;5;21;01m.\u001b[39;00m\u001b[38;5;21;01mtransforms\u001b[39;00m \u001b[38;5;28;01mimport\u001b[39;00m Transform, IdentityTransform\n\u001b[1;32m     29\u001b[0m \u001b[38;5;28;01mclass\u001b[39;00m \u001b[38;5;21;01mScaleBase\u001b[39;00m:\n",
      "File \u001b[0;32m/opt/anaconda3/lib/python3.12/site-packages/matplotlib/ticker.py:144\u001b[0m\n\u001b[1;32m    142\u001b[0m \u001b[38;5;28;01mimport\u001b[39;00m \u001b[38;5;21;01mmatplotlib\u001b[39;00m \u001b[38;5;28;01mas\u001b[39;00m \u001b[38;5;21;01mmpl\u001b[39;00m\n\u001b[1;32m    143\u001b[0m \u001b[38;5;28;01mfrom\u001b[39;00m \u001b[38;5;21;01mmatplotlib\u001b[39;00m \u001b[38;5;28;01mimport\u001b[39;00m _api, cbook\n\u001b[0;32m--> 144\u001b[0m \u001b[38;5;28;01mfrom\u001b[39;00m \u001b[38;5;21;01mmatplotlib\u001b[39;00m \u001b[38;5;28;01mimport\u001b[39;00m transforms \u001b[38;5;28;01mas\u001b[39;00m mtransforms\n\u001b[1;32m    146\u001b[0m _log \u001b[38;5;241m=\u001b[39m logging\u001b[38;5;241m.\u001b[39mgetLogger(\u001b[38;5;18m__name__\u001b[39m)\n\u001b[1;32m    148\u001b[0m __all__ \u001b[38;5;241m=\u001b[39m (\u001b[38;5;124m'\u001b[39m\u001b[38;5;124mTickHelper\u001b[39m\u001b[38;5;124m'\u001b[39m, \u001b[38;5;124m'\u001b[39m\u001b[38;5;124mFormatter\u001b[39m\u001b[38;5;124m'\u001b[39m, \u001b[38;5;124m'\u001b[39m\u001b[38;5;124mFixedFormatter\u001b[39m\u001b[38;5;124m'\u001b[39m,\n\u001b[1;32m    149\u001b[0m            \u001b[38;5;124m'\u001b[39m\u001b[38;5;124mNullFormatter\u001b[39m\u001b[38;5;124m'\u001b[39m, \u001b[38;5;124m'\u001b[39m\u001b[38;5;124mFuncFormatter\u001b[39m\u001b[38;5;124m'\u001b[39m, \u001b[38;5;124m'\u001b[39m\u001b[38;5;124mFormatStrFormatter\u001b[39m\u001b[38;5;124m'\u001b[39m,\n\u001b[1;32m    150\u001b[0m            \u001b[38;5;124m'\u001b[39m\u001b[38;5;124mStrMethodFormatter\u001b[39m\u001b[38;5;124m'\u001b[39m, \u001b[38;5;124m'\u001b[39m\u001b[38;5;124mScalarFormatter\u001b[39m\u001b[38;5;124m'\u001b[39m, \u001b[38;5;124m'\u001b[39m\u001b[38;5;124mLogFormatter\u001b[39m\u001b[38;5;124m'\u001b[39m,\n\u001b[0;32m   (...)\u001b[0m\n\u001b[1;32m    156\u001b[0m            \u001b[38;5;124m'\u001b[39m\u001b[38;5;124mMultipleLocator\u001b[39m\u001b[38;5;124m'\u001b[39m, \u001b[38;5;124m'\u001b[39m\u001b[38;5;124mMaxNLocator\u001b[39m\u001b[38;5;124m'\u001b[39m, \u001b[38;5;124m'\u001b[39m\u001b[38;5;124mAutoMinorLocator\u001b[39m\u001b[38;5;124m'\u001b[39m,\n\u001b[1;32m    157\u001b[0m            \u001b[38;5;124m'\u001b[39m\u001b[38;5;124mSymmetricalLogLocator\u001b[39m\u001b[38;5;124m'\u001b[39m, \u001b[38;5;124m'\u001b[39m\u001b[38;5;124mAsinhLocator\u001b[39m\u001b[38;5;124m'\u001b[39m, \u001b[38;5;124m'\u001b[39m\u001b[38;5;124mLogitLocator\u001b[39m\u001b[38;5;124m'\u001b[39m)\n",
      "File \u001b[0;32m/opt/anaconda3/lib/python3.12/site-packages/matplotlib/transforms.py:49\u001b[0m\n\u001b[1;32m     46\u001b[0m \u001b[38;5;28;01mfrom\u001b[39;00m \u001b[38;5;21;01mnumpy\u001b[39;00m\u001b[38;5;21;01m.\u001b[39;00m\u001b[38;5;21;01mlinalg\u001b[39;00m \u001b[38;5;28;01mimport\u001b[39;00m inv\n\u001b[1;32m     48\u001b[0m \u001b[38;5;28;01mfrom\u001b[39;00m \u001b[38;5;21;01mmatplotlib\u001b[39;00m \u001b[38;5;28;01mimport\u001b[39;00m _api\n\u001b[0;32m---> 49\u001b[0m \u001b[38;5;28;01mfrom\u001b[39;00m \u001b[38;5;21;01mmatplotlib\u001b[39;00m\u001b[38;5;21;01m.\u001b[39;00m\u001b[38;5;21;01m_path\u001b[39;00m \u001b[38;5;28;01mimport\u001b[39;00m (\n\u001b[1;32m     50\u001b[0m     affine_transform, count_bboxes_overlapping_bbox, update_path_extents)\n\u001b[1;32m     51\u001b[0m \u001b[38;5;28;01mfrom\u001b[39;00m \u001b[38;5;21;01m.\u001b[39;00m\u001b[38;5;21;01mpath\u001b[39;00m \u001b[38;5;28;01mimport\u001b[39;00m Path\n\u001b[1;32m     53\u001b[0m DEBUG \u001b[38;5;241m=\u001b[39m \u001b[38;5;28;01mFalse\u001b[39;00m\n",
      "\u001b[0;31mImportError\u001b[0m: initialization failed"
     ]
    }
   ],
   "source": [
    "import pandas as pd \n",
    "import numpy as np \n",
    "import matplotlib.pyplot as plt \n",
    "import seaborn as sns \n",
    "from sklearn.feature_selection import chi2\n",
    "from sklearn.ensemble import RandomForestClassifier, ExtraTreesClassifier \n",
    "from sklearn.neighbors import KNeighborsClassifier\n",
    "from sklearn.metrics import confusion_matrix, classification_report \n",
    "from sklearn.tree import DecisionTreeClassifier \n",
    "from sklearn.preprocessing import LabelEncoder, StandardScaler\n",
    "from sklearn.model_selection import train_test_split\n",
    "import xgboost\n",
    "import pickle as pkl\n",
    "from sklearn.model_selection import cross_val_score, GridSearchCV\n",
    "from imblearn.over_sampling import SMOTE\n",
    "import warnings\n",
    "warnings.filterwarnings (\"ignore\")"
   ]
  },
  {
   "cell_type": "code",
   "execution_count": 2,
   "id": "9d0f2f74-451c-4ee8-943b-359ca5778e75",
   "metadata": {},
   "outputs": [
    {
     "data": {
      "text/html": [
       "<div>\n",
       "<style scoped>\n",
       "    .dataframe tbody tr th:only-of-type {\n",
       "        vertical-align: middle;\n",
       "    }\n",
       "\n",
       "    .dataframe tbody tr th {\n",
       "        vertical-align: top;\n",
       "    }\n",
       "\n",
       "    .dataframe thead th {\n",
       "        text-align: right;\n",
       "    }\n",
       "</style>\n",
       "<table border=\"1\" class=\"dataframe\">\n",
       "  <thead>\n",
       "    <tr style=\"text-align: right;\">\n",
       "      <th></th>\n",
       "      <th>S.No.</th>\n",
       "      <th>datetime</th>\n",
       "      <th>temperature</th>\n",
       "      <th>humidity</th>\n",
       "      <th>tempDegree</th>\n",
       "      <th>humidityDegree</th>\n",
       "      <th>fanSpeed</th>\n",
       "    </tr>\n",
       "  </thead>\n",
       "  <tbody>\n",
       "    <tr>\n",
       "      <th>0</th>\n",
       "      <td>1</td>\n",
       "      <td>1/4/21 0:01</td>\n",
       "      <td>32</td>\n",
       "      <td>34</td>\n",
       "      <td>1</td>\n",
       "      <td>0</td>\n",
       "      <td>2</td>\n",
       "    </tr>\n",
       "    <tr>\n",
       "      <th>1</th>\n",
       "      <td>2</td>\n",
       "      <td>1/4/21 0:01</td>\n",
       "      <td>32</td>\n",
       "      <td>35</td>\n",
       "      <td>1</td>\n",
       "      <td>0</td>\n",
       "      <td>2</td>\n",
       "    </tr>\n",
       "    <tr>\n",
       "      <th>2</th>\n",
       "      <td>3</td>\n",
       "      <td>1/4/21 0:01</td>\n",
       "      <td>32</td>\n",
       "      <td>35</td>\n",
       "      <td>1</td>\n",
       "      <td>0</td>\n",
       "      <td>2</td>\n",
       "    </tr>\n",
       "    <tr>\n",
       "      <th>3</th>\n",
       "      <td>4</td>\n",
       "      <td>1/4/21 0:02</td>\n",
       "      <td>32</td>\n",
       "      <td>35</td>\n",
       "      <td>1</td>\n",
       "      <td>0</td>\n",
       "      <td>2</td>\n",
       "    </tr>\n",
       "    <tr>\n",
       "      <th>4</th>\n",
       "      <td>5</td>\n",
       "      <td>1/4/21 0:04</td>\n",
       "      <td>32</td>\n",
       "      <td>34</td>\n",
       "      <td>1</td>\n",
       "      <td>0</td>\n",
       "      <td>2</td>\n",
       "    </tr>\n",
       "    <tr>\n",
       "      <th>...</th>\n",
       "      <td>...</td>\n",
       "      <td>...</td>\n",
       "      <td>...</td>\n",
       "      <td>...</td>\n",
       "      <td>...</td>\n",
       "      <td>...</td>\n",
       "      <td>...</td>\n",
       "    </tr>\n",
       "    <tr>\n",
       "      <th>79371</th>\n",
       "      <td>79380</td>\n",
       "      <td>31/07/2021 9:54</td>\n",
       "      <td>32</td>\n",
       "      <td>92</td>\n",
       "      <td>1</td>\n",
       "      <td>2</td>\n",
       "      <td>4</td>\n",
       "    </tr>\n",
       "    <tr>\n",
       "      <th>79372</th>\n",
       "      <td>79381</td>\n",
       "      <td>31/07/2021 9:55</td>\n",
       "      <td>31</td>\n",
       "      <td>93</td>\n",
       "      <td>1</td>\n",
       "      <td>2</td>\n",
       "      <td>4</td>\n",
       "    </tr>\n",
       "    <tr>\n",
       "      <th>79373</th>\n",
       "      <td>79382</td>\n",
       "      <td>31/07/2021 9:55</td>\n",
       "      <td>32</td>\n",
       "      <td>92</td>\n",
       "      <td>1</td>\n",
       "      <td>2</td>\n",
       "      <td>4</td>\n",
       "    </tr>\n",
       "    <tr>\n",
       "      <th>79374</th>\n",
       "      <td>79383</td>\n",
       "      <td>31/07/2021 9:56</td>\n",
       "      <td>31</td>\n",
       "      <td>93</td>\n",
       "      <td>1</td>\n",
       "      <td>2</td>\n",
       "      <td>4</td>\n",
       "    </tr>\n",
       "    <tr>\n",
       "      <th>79375</th>\n",
       "      <td>79384</td>\n",
       "      <td>31/07/2021 9:59</td>\n",
       "      <td>32</td>\n",
       "      <td>93</td>\n",
       "      <td>1</td>\n",
       "      <td>2</td>\n",
       "      <td>4</td>\n",
       "    </tr>\n",
       "  </tbody>\n",
       "</table>\n",
       "<p>79376 rows × 7 columns</p>\n",
       "</div>"
      ],
      "text/plain": [
       "       S.No.         datetime  temperature  humidity  tempDegree  \\\n",
       "0          1      1/4/21 0:01           32        34           1   \n",
       "1          2      1/4/21 0:01           32        35           1   \n",
       "2          3      1/4/21 0:01           32        35           1   \n",
       "3          4      1/4/21 0:02           32        35           1   \n",
       "4          5      1/4/21 0:04           32        34           1   \n",
       "...      ...              ...          ...       ...         ...   \n",
       "79371  79380  31/07/2021 9:54           32        92           1   \n",
       "79372  79381  31/07/2021 9:55           31        93           1   \n",
       "79373  79382  31/07/2021 9:55           32        92           1   \n",
       "79374  79383  31/07/2021 9:56           31        93           1   \n",
       "79375  79384  31/07/2021 9:59           32        93           1   \n",
       "\n",
       "       humidityDegree  fanSpeed  \n",
       "0                   0         2  \n",
       "1                   0         2  \n",
       "2                   0         2  \n",
       "3                   0         2  \n",
       "4                   0         2  \n",
       "...               ...       ...  \n",
       "79371               2         4  \n",
       "79372               2         4  \n",
       "79373               2         4  \n",
       "79374               2         4  \n",
       "79375               2         4  \n",
       "\n",
       "[79376 rows x 7 columns]"
      ]
     },
     "execution_count": 2,
     "metadata": {},
     "output_type": "execute_result"
    }
   ],
   "source": [
    "data = pd.read_csv('newTrain.csv')\n",
    "data"
   ]
  },
  {
   "cell_type": "code",
   "execution_count": 3,
   "id": "70d9f27d-7c8d-41a6-a1fb-7f0da9427e01",
   "metadata": {},
   "outputs": [
    {
     "name": "stdout",
     "output_type": "stream",
     "text": [
      "Dataset shape: (79376, 7)\n"
     ]
    }
   ],
   "source": [
    "print('Dataset shape:', data.shape)"
   ]
  },
  {
   "cell_type": "code",
   "execution_count": 4,
   "id": "2e75ff65-de18-4897-bc3e-d9bf3833f5a3",
   "metadata": {},
   "outputs": [
    {
     "name": "stdout",
     "output_type": "stream",
     "text": [
      "<class 'pandas.core.frame.DataFrame'>\n",
      "RangeIndex: 79376 entries, 0 to 79375\n",
      "Data columns (total 7 columns):\n",
      " #   Column          Non-Null Count  Dtype \n",
      "---  ------          --------------  ----- \n",
      " 0   S.No.           79376 non-null  int64 \n",
      " 1   datetime        79376 non-null  object\n",
      " 2   temperature     79376 non-null  int64 \n",
      " 3   humidity        79376 non-null  int64 \n",
      " 4   tempDegree      79376 non-null  int64 \n",
      " 5   humidityDegree  79376 non-null  int64 \n",
      " 6   fanSpeed        79376 non-null  int64 \n",
      "dtypes: int64(6), object(1)\n",
      "memory usage: 4.2+ MB\n"
     ]
    }
   ],
   "source": [
    "data.info()"
   ]
  },
  {
   "cell_type": "markdown",
   "id": "4427e742-ee96-4a49-a9d9-f8dd30ce8ce3",
   "metadata": {},
   "source": [
    "## Handling Missing Values"
   ]
  },
  {
   "cell_type": "code",
   "execution_count": 6,
   "id": "6266ae00-8359-49b7-8cc2-0733172d3623",
   "metadata": {},
   "outputs": [
    {
     "data": {
      "text/plain": [
       "S.No.             0\n",
       "datetime          0\n",
       "temperature       0\n",
       "humidity          0\n",
       "tempDegree        0\n",
       "humidityDegree    0\n",
       "fanSpeed          0\n",
       "dtype: int64"
      ]
     },
     "execution_count": 6,
     "metadata": {},
     "output_type": "execute_result"
    }
   ],
   "source": [
    "data.isnull().sum()"
   ]
  },
  {
   "cell_type": "code",
   "execution_count": 7,
   "id": "eae4b874-a75a-4257-b400-70be8f69903b",
   "metadata": {},
   "outputs": [
    {
     "data": {
      "text/plain": [
       "S.No.             False\n",
       "datetime          False\n",
       "temperature       False\n",
       "humidity          False\n",
       "tempDegree        False\n",
       "humidityDegree    False\n",
       "fanSpeed          False\n",
       "dtype: bool"
      ]
     },
     "execution_count": 7,
     "metadata": {},
     "output_type": "execute_result"
    }
   ],
   "source": [
    "data.isnull().any()"
   ]
  },
  {
   "cell_type": "code",
   "execution_count": 8,
   "id": "78333514-4e74-4b7b-938d-b8429dc87842",
   "metadata": {},
   "outputs": [
    {
     "data": {
      "text/plain": [
       "array([1, 2, 0])"
      ]
     },
     "execution_count": 8,
     "metadata": {},
     "output_type": "execute_result"
    }
   ],
   "source": [
    "data[\"tempDegree\"].unique()"
   ]
  },
  {
   "cell_type": "code",
   "execution_count": 9,
   "id": "eda92485-e356-4c89-b225-98819ee257de",
   "metadata": {},
   "outputs": [
    {
     "data": {
      "text/plain": [
       "array([0, 1, 2])"
      ]
     },
     "execution_count": 9,
     "metadata": {},
     "output_type": "execute_result"
    }
   ],
   "source": [
    "data[\"humidityDegree\"].unique()"
   ]
  },
  {
   "cell_type": "code",
   "execution_count": 10,
   "id": "80462bb5-81c5-44f9-bc90-46550131bed1",
   "metadata": {},
   "outputs": [
    {
     "data": {
      "text/plain": [
       "array([2, 3, 5, 4, 1, 6])"
      ]
     },
     "execution_count": 10,
     "metadata": {},
     "output_type": "execute_result"
    }
   ],
   "source": [
    "data[\"fanSpeed\"].unique()"
   ]
  },
  {
   "cell_type": "markdown",
   "id": "dae44658-d782-4363-9e29-c0157c4ebe78",
   "metadata": {},
   "source": [
    "### There are no null values"
   ]
  },
  {
   "cell_type": "code",
   "execution_count": 12,
   "id": "b3217ff3-abea-4251-903a-c34c09661343",
   "metadata": {},
   "outputs": [
    {
     "name": "stdout",
     "output_type": "stream",
     "text": [
      "<class 'pandas.core.frame.DataFrame'>\n",
      "RangeIndex: 79376 entries, 0 to 79375\n",
      "Data columns (total 7 columns):\n",
      " #   Column          Non-Null Count  Dtype \n",
      "---  ------          --------------  ----- \n",
      " 0   S.No.           79376 non-null  int64 \n",
      " 1   datetime        79376 non-null  object\n",
      " 2   temperature     79376 non-null  int64 \n",
      " 3   humidity        79376 non-null  int64 \n",
      " 4   tempDegree      79376 non-null  int64 \n",
      " 5   humidityDegree  79376 non-null  int64 \n",
      " 6   fanSpeed        79376 non-null  int64 \n",
      "dtypes: int64(6), object(1)\n",
      "memory usage: 4.2+ MB\n"
     ]
    }
   ],
   "source": [
    "data.info()"
   ]
  },
  {
   "cell_type": "code",
   "execution_count": 13,
   "id": "391e19ef-c351-42e2-a0c0-bf24cf15eac4",
   "metadata": {},
   "outputs": [
    {
     "data": {
      "text/plain": [
       "fanSpeed\n",
       "3    26156\n",
       "5    18402\n",
       "4    18005\n",
       "2     8753\n",
       "6     8045\n",
       "1       15\n",
       "Name: count, dtype: int64"
      ]
     },
     "execution_count": 13,
     "metadata": {},
     "output_type": "execute_result"
    }
   ],
   "source": [
    "data[\"fanSpeed\"].value_counts()"
   ]
  },
  {
   "cell_type": "code",
   "execution_count": 14,
   "id": "24bd1f9b-3108-4447-8884-68e84077d2c3",
   "metadata": {},
   "outputs": [],
   "source": [
    "data = data.drop(['S.No.', 'datetime', 'tempDegree', 'humidityDegree'], axis=1)"
   ]
  },
  {
   "cell_type": "code",
   "execution_count": 15,
   "id": "4dc4a408-a668-4f38-81c8-1988e4da47be",
   "metadata": {},
   "outputs": [
    {
     "data": {
      "text/html": [
       "<div>\n",
       "<style scoped>\n",
       "    .dataframe tbody tr th:only-of-type {\n",
       "        vertical-align: middle;\n",
       "    }\n",
       "\n",
       "    .dataframe tbody tr th {\n",
       "        vertical-align: top;\n",
       "    }\n",
       "\n",
       "    .dataframe thead th {\n",
       "        text-align: right;\n",
       "    }\n",
       "</style>\n",
       "<table border=\"1\" class=\"dataframe\">\n",
       "  <thead>\n",
       "    <tr style=\"text-align: right;\">\n",
       "      <th></th>\n",
       "      <th>temperature</th>\n",
       "      <th>humidity</th>\n",
       "      <th>fanSpeed</th>\n",
       "    </tr>\n",
       "  </thead>\n",
       "  <tbody>\n",
       "    <tr>\n",
       "      <th>0</th>\n",
       "      <td>32</td>\n",
       "      <td>34</td>\n",
       "      <td>2</td>\n",
       "    </tr>\n",
       "    <tr>\n",
       "      <th>1</th>\n",
       "      <td>32</td>\n",
       "      <td>35</td>\n",
       "      <td>2</td>\n",
       "    </tr>\n",
       "    <tr>\n",
       "      <th>2</th>\n",
       "      <td>32</td>\n",
       "      <td>35</td>\n",
       "      <td>2</td>\n",
       "    </tr>\n",
       "    <tr>\n",
       "      <th>3</th>\n",
       "      <td>32</td>\n",
       "      <td>35</td>\n",
       "      <td>2</td>\n",
       "    </tr>\n",
       "    <tr>\n",
       "      <th>4</th>\n",
       "      <td>32</td>\n",
       "      <td>34</td>\n",
       "      <td>2</td>\n",
       "    </tr>\n",
       "    <tr>\n",
       "      <th>...</th>\n",
       "      <td>...</td>\n",
       "      <td>...</td>\n",
       "      <td>...</td>\n",
       "    </tr>\n",
       "    <tr>\n",
       "      <th>79371</th>\n",
       "      <td>32</td>\n",
       "      <td>92</td>\n",
       "      <td>4</td>\n",
       "    </tr>\n",
       "    <tr>\n",
       "      <th>79372</th>\n",
       "      <td>31</td>\n",
       "      <td>93</td>\n",
       "      <td>4</td>\n",
       "    </tr>\n",
       "    <tr>\n",
       "      <th>79373</th>\n",
       "      <td>32</td>\n",
       "      <td>92</td>\n",
       "      <td>4</td>\n",
       "    </tr>\n",
       "    <tr>\n",
       "      <th>79374</th>\n",
       "      <td>31</td>\n",
       "      <td>93</td>\n",
       "      <td>4</td>\n",
       "    </tr>\n",
       "    <tr>\n",
       "      <th>79375</th>\n",
       "      <td>32</td>\n",
       "      <td>93</td>\n",
       "      <td>4</td>\n",
       "    </tr>\n",
       "  </tbody>\n",
       "</table>\n",
       "<p>79376 rows × 3 columns</p>\n",
       "</div>"
      ],
      "text/plain": [
       "       temperature  humidity  fanSpeed\n",
       "0               32        34         2\n",
       "1               32        35         2\n",
       "2               32        35         2\n",
       "3               32        35         2\n",
       "4               32        34         2\n",
       "...            ...       ...       ...\n",
       "79371           32        92         4\n",
       "79372           31        93         4\n",
       "79373           32        92         4\n",
       "79374           31        93         4\n",
       "79375           32        93         4\n",
       "\n",
       "[79376 rows x 3 columns]"
      ]
     },
     "execution_count": 15,
     "metadata": {},
     "output_type": "execute_result"
    }
   ],
   "source": [
    "data"
   ]
  },
  {
   "cell_type": "markdown",
   "id": "7c1b5ff4-d9e9-4a30-8dc1-664af01b0972",
   "metadata": {},
   "source": [
    "### Exploratory Data Analysis"
   ]
  },
  {
   "cell_type": "markdown",
   "id": "81ba7473-96fa-4e50-9d6e-9f5b8f4adb55",
   "metadata": {},
   "source": [
    "## Checking Duplicated Values"
   ]
  },
  {
   "cell_type": "code",
   "execution_count": 18,
   "id": "f4abf185-4de1-46e8-a630-172fc993643e",
   "metadata": {},
   "outputs": [
    {
     "data": {
      "text/plain": [
       "78528"
      ]
     },
     "execution_count": 18,
     "metadata": {},
     "output_type": "execute_result"
    }
   ],
   "source": [
    "data.duplicated().sum()"
   ]
  },
  {
   "cell_type": "code",
   "execution_count": 19,
   "id": "72f892eb-4e7d-4a27-8bda-ba444b7e9efa",
   "metadata": {},
   "outputs": [
    {
     "data": {
      "text/html": [
       "<div>\n",
       "<style scoped>\n",
       "    .dataframe tbody tr th:only-of-type {\n",
       "        vertical-align: middle;\n",
       "    }\n",
       "\n",
       "    .dataframe tbody tr th {\n",
       "        vertical-align: top;\n",
       "    }\n",
       "\n",
       "    .dataframe thead th {\n",
       "        text-align: right;\n",
       "    }\n",
       "</style>\n",
       "<table border=\"1\" class=\"dataframe\">\n",
       "  <thead>\n",
       "    <tr style=\"text-align: right;\">\n",
       "      <th></th>\n",
       "      <th>temperature</th>\n",
       "      <th>humidity</th>\n",
       "    </tr>\n",
       "  </thead>\n",
       "  <tbody>\n",
       "    <tr>\n",
       "      <th>0</th>\n",
       "      <td>32</td>\n",
       "      <td>34</td>\n",
       "    </tr>\n",
       "    <tr>\n",
       "      <th>1</th>\n",
       "      <td>32</td>\n",
       "      <td>35</td>\n",
       "    </tr>\n",
       "    <tr>\n",
       "      <th>2</th>\n",
       "      <td>32</td>\n",
       "      <td>35</td>\n",
       "    </tr>\n",
       "    <tr>\n",
       "      <th>3</th>\n",
       "      <td>32</td>\n",
       "      <td>35</td>\n",
       "    </tr>\n",
       "    <tr>\n",
       "      <th>4</th>\n",
       "      <td>32</td>\n",
       "      <td>34</td>\n",
       "    </tr>\n",
       "    <tr>\n",
       "      <th>...</th>\n",
       "      <td>...</td>\n",
       "      <td>...</td>\n",
       "    </tr>\n",
       "    <tr>\n",
       "      <th>79371</th>\n",
       "      <td>32</td>\n",
       "      <td>92</td>\n",
       "    </tr>\n",
       "    <tr>\n",
       "      <th>79372</th>\n",
       "      <td>31</td>\n",
       "      <td>93</td>\n",
       "    </tr>\n",
       "    <tr>\n",
       "      <th>79373</th>\n",
       "      <td>32</td>\n",
       "      <td>92</td>\n",
       "    </tr>\n",
       "    <tr>\n",
       "      <th>79374</th>\n",
       "      <td>31</td>\n",
       "      <td>93</td>\n",
       "    </tr>\n",
       "    <tr>\n",
       "      <th>79375</th>\n",
       "      <td>32</td>\n",
       "      <td>93</td>\n",
       "    </tr>\n",
       "  </tbody>\n",
       "</table>\n",
       "<p>79376 rows × 2 columns</p>\n",
       "</div>"
      ],
      "text/plain": [
       "       temperature  humidity\n",
       "0               32        34\n",
       "1               32        35\n",
       "2               32        35\n",
       "3               32        35\n",
       "4               32        34\n",
       "...            ...       ...\n",
       "79371           32        92\n",
       "79372           31        93\n",
       "79373           32        92\n",
       "79374           31        93\n",
       "79375           32        93\n",
       "\n",
       "[79376 rows x 2 columns]"
      ]
     },
     "execution_count": 19,
     "metadata": {},
     "output_type": "execute_result"
    }
   ],
   "source": [
    "x = data.drop('fanSpeed', axis=1)\n",
    "x"
   ]
  },
  {
   "cell_type": "code",
   "execution_count": 20,
   "id": "9e212878-246a-41e9-a362-baa5a709ae82",
   "metadata": {},
   "outputs": [
    {
     "data": {
      "text/plain": [
       "0        2\n",
       "1        2\n",
       "2        2\n",
       "3        2\n",
       "4        2\n",
       "        ..\n",
       "79371    4\n",
       "79372    4\n",
       "79373    4\n",
       "79374    4\n",
       "79375    4\n",
       "Name: fanSpeed, Length: 79376, dtype: int64"
      ]
     },
     "execution_count": 20,
     "metadata": {},
     "output_type": "execute_result"
    }
   ],
   "source": [
    "y = data['fanSpeed']\n",
    "y"
   ]
  },
  {
   "cell_type": "code",
   "execution_count": 21,
   "id": "a3cfca94-2530-4c25-8156-27f8cbaf6eb6",
   "metadata": {},
   "outputs": [],
   "source": [
    "x_train,x_test,y_train,y_test = train_test_split(x,y,test_size=0.3, random_state=1234)"
   ]
  },
  {
   "cell_type": "code",
   "execution_count": 22,
   "id": "23579b60-cb7f-4837-8ca0-321401ef1275",
   "metadata": {},
   "outputs": [
    {
     "data": {
      "text/html": [
       "<div>\n",
       "<style scoped>\n",
       "    .dataframe tbody tr th:only-of-type {\n",
       "        vertical-align: middle;\n",
       "    }\n",
       "\n",
       "    .dataframe tbody tr th {\n",
       "        vertical-align: top;\n",
       "    }\n",
       "\n",
       "    .dataframe thead th {\n",
       "        text-align: right;\n",
       "    }\n",
       "</style>\n",
       "<table border=\"1\" class=\"dataframe\">\n",
       "  <thead>\n",
       "    <tr style=\"text-align: right;\">\n",
       "      <th></th>\n",
       "      <th>temperature</th>\n",
       "      <th>humidity</th>\n",
       "    </tr>\n",
       "  </thead>\n",
       "  <tbody>\n",
       "    <tr>\n",
       "      <th>63352</th>\n",
       "      <td>32</td>\n",
       "      <td>37</td>\n",
       "    </tr>\n",
       "    <tr>\n",
       "      <th>8652</th>\n",
       "      <td>35</td>\n",
       "      <td>56</td>\n",
       "    </tr>\n",
       "    <tr>\n",
       "      <th>34581</th>\n",
       "      <td>34</td>\n",
       "      <td>57</td>\n",
       "    </tr>\n",
       "    <tr>\n",
       "      <th>56738</th>\n",
       "      <td>34</td>\n",
       "      <td>82</td>\n",
       "    </tr>\n",
       "    <tr>\n",
       "      <th>78453</th>\n",
       "      <td>32</td>\n",
       "      <td>58</td>\n",
       "    </tr>\n",
       "    <tr>\n",
       "      <th>...</th>\n",
       "      <td>...</td>\n",
       "      <td>...</td>\n",
       "    </tr>\n",
       "    <tr>\n",
       "      <th>55985</th>\n",
       "      <td>35</td>\n",
       "      <td>75</td>\n",
       "    </tr>\n",
       "    <tr>\n",
       "      <th>32399</th>\n",
       "      <td>32</td>\n",
       "      <td>62</td>\n",
       "    </tr>\n",
       "    <tr>\n",
       "      <th>60620</th>\n",
       "      <td>33</td>\n",
       "      <td>80</td>\n",
       "    </tr>\n",
       "    <tr>\n",
       "      <th>34086</th>\n",
       "      <td>33</td>\n",
       "      <td>66</td>\n",
       "    </tr>\n",
       "    <tr>\n",
       "      <th>58067</th>\n",
       "      <td>34</td>\n",
       "      <td>84</td>\n",
       "    </tr>\n",
       "  </tbody>\n",
       "</table>\n",
       "<p>55563 rows × 2 columns</p>\n",
       "</div>"
      ],
      "text/plain": [
       "       temperature  humidity\n",
       "63352           32        37\n",
       "8652            35        56\n",
       "34581           34        57\n",
       "56738           34        82\n",
       "78453           32        58\n",
       "...            ...       ...\n",
       "55985           35        75\n",
       "32399           32        62\n",
       "60620           33        80\n",
       "34086           33        66\n",
       "58067           34        84\n",
       "\n",
       "[55563 rows x 2 columns]"
      ]
     },
     "execution_count": 22,
     "metadata": {},
     "output_type": "execute_result"
    }
   ],
   "source": [
    "x_train"
   ]
  },
  {
   "cell_type": "code",
   "execution_count": 23,
   "id": "53e40298-bcfd-4d65-8cc0-fe30b2de9ac0",
   "metadata": {},
   "outputs": [
    {
     "data": {
      "text/plain": [
       "63352    2\n",
       "8652     5\n",
       "34581    5\n",
       "56738    6\n",
       "78453    3\n",
       "        ..\n",
       "55985    6\n",
       "32399    3\n",
       "60620    4\n",
       "34086    3\n",
       "58067    6\n",
       "Name: fanSpeed, Length: 55563, dtype: int64"
      ]
     },
     "execution_count": 23,
     "metadata": {},
     "output_type": "execute_result"
    }
   ],
   "source": [
    "y_train"
   ]
  },
  {
   "cell_type": "code",
   "execution_count": null,
   "id": "f2d6e804-9ad6-451e-ac7f-92adc3d5a9f0",
   "metadata": {},
   "outputs": [],
   "source": []
  },
  {
   "cell_type": "code",
   "execution_count": 24,
   "id": "8647f299-b487-4b23-88cc-6be0f0592a01",
   "metadata": {},
   "outputs": [],
   "source": [
    "\n",
    "def train_models_eval(x_train,y_train,fts):\n",
    "    print(\"\\n---›RANDOM FOREST\" )\n",
    "    rf = RandomForestClassifier(random_state=1234)\n",
    "    rf.fit(x_train[fts], y_train)\n",
    "    y_pred=rf.predict(x_test[fts])\n",
    "    print(confusion_matrix(y_test,y_pred))\n",
    "    print(classification_report(y_test,y_pred))\n",
    "    print(\"SCORE:\",rf.score(x_test[fts],y_test))\n",
    "    \n",
    "    print(\"\\n---›DECISION TREE\")\n",
    "    dtf = DecisionTreeClassifier(random_state=1234)\n",
    "    dtf.fit(x_train[fts], y_train)\n",
    "    y_pred=dtf.predict(x_test[fts])\n",
    "    print(confusion_matrix(y_test,y_pred))\n",
    "    print(classification_report(y_test,y_pred))\n",
    "    print(\"SCORE:\",dtf.score(x_test[fts],y_test))\n",
    "    \n",
    "    print(\" \\n--->KNN\")\n",
    "    knn = KNeighborsClassifier()\n",
    "    knn.fit(x_train[fts], y_train)\n",
    "    y_pred=knn.predict(x_test[fts])\n",
    "    print(confusion_matrix(y_test,y_pred))\n",
    "    print(classification_report(y_test,y_pred))\n",
    "    print(\"SCORE:\",knn.score(x_test[fts],y_test))\n",
    "    \n",
    "    print(\"\\n---›EXTRAS TREES CLASSIFIER\")\n",
    "    etc = ExtraTreesClassifier(random_state=1234)\n",
    "    etc.fit(x_train[fts],y_train)\n",
    "    y_pred=etc.predict(x_test[fts])\n",
    "    print(confusion_matrix(y_test,y_pred))\n",
    "    print(classification_report(y_test,y_pred))\n",
    "    print(\"SCORE:\",etc.score(x_test[fts],y_test))\n",
    "    \n",
    "    #print(\"\\n---›XGBOOST\" )\n",
    "    #xgb = xgboost.XGBClassifier ()\n",
    "    #xgb.fit(x_train[fts], y_train)\n",
    "    #y_pred=xgb.predict(x_test[fts])\n",
    "    #print(confusion_matrix(y_test,y_pred))\n",
    "    #print(classification_report(y_test,y_pred))\n",
    "    #print(\"SCORE:\", xgb.score(x_test[fts],y_test))\n",
    "    \n",
    "    return rf,dtf,knn,etc"
   ]
  },
  {
   "cell_type": "code",
   "execution_count": 25,
   "id": "940d9863-45f0-49c6-bb4a-04440417a002",
   "metadata": {},
   "outputs": [
    {
     "name": "stdout",
     "output_type": "stream",
     "text": [
      "\n",
      "---›RANDOM FOREST\n",
      "[[   4    0    0    0    0    0]\n",
      " [   0 2642    0    0    0    0]\n",
      " [   0    0 7848    0    0    0]\n",
      " [   0    0    0 5429    0    0]\n",
      " [   0    0    0    0 5468    0]\n",
      " [   0    0    0    0    0 2422]]\n",
      "              precision    recall  f1-score   support\n",
      "\n",
      "           1       1.00      1.00      1.00         4\n",
      "           2       1.00      1.00      1.00      2642\n",
      "           3       1.00      1.00      1.00      7848\n",
      "           4       1.00      1.00      1.00      5429\n",
      "           5       1.00      1.00      1.00      5468\n",
      "           6       1.00      1.00      1.00      2422\n",
      "\n",
      "    accuracy                           1.00     23813\n",
      "   macro avg       1.00      1.00      1.00     23813\n",
      "weighted avg       1.00      1.00      1.00     23813\n",
      "\n",
      "SCORE: 1.0\n",
      "\n",
      "---›DECISION TREE\n",
      "[[   4    0    0    0    0    0]\n",
      " [   0 2642    0    0    0    0]\n",
      " [   0    0 7848    0    0    0]\n",
      " [   0    0    0 5429    0    0]\n",
      " [   0    0    0    0 5468    0]\n",
      " [   0    0    0    0    0 2422]]\n",
      "              precision    recall  f1-score   support\n",
      "\n",
      "           1       1.00      1.00      1.00         4\n",
      "           2       1.00      1.00      1.00      2642\n",
      "           3       1.00      1.00      1.00      7848\n",
      "           4       1.00      1.00      1.00      5429\n",
      "           5       1.00      1.00      1.00      5468\n",
      "           6       1.00      1.00      1.00      2422\n",
      "\n",
      "    accuracy                           1.00     23813\n",
      "   macro avg       1.00      1.00      1.00     23813\n",
      "weighted avg       1.00      1.00      1.00     23813\n",
      "\n",
      "SCORE: 1.0\n",
      " \n",
      "--->KNN\n",
      "[[   3    1    0    0    0    0]\n",
      " [   0 2638    4    0    0    0]\n",
      " [   0    0 7845    3    0    0]\n",
      " [   0    1    0 5428    0    0]\n",
      " [   0    0    0    0 5468    0]\n",
      " [   0    0    0    3    0 2419]]\n",
      "              precision    recall  f1-score   support\n",
      "\n",
      "           1       1.00      0.75      0.86         4\n",
      "           2       1.00      1.00      1.00      2642\n",
      "           3       1.00      1.00      1.00      7848\n",
      "           4       1.00      1.00      1.00      5429\n",
      "           5       1.00      1.00      1.00      5468\n",
      "           6       1.00      1.00      1.00      2422\n",
      "\n",
      "    accuracy                           1.00     23813\n",
      "   macro avg       1.00      0.96      0.98     23813\n",
      "weighted avg       1.00      1.00      1.00     23813\n",
      "\n",
      "SCORE: 0.9994960735732583\n",
      "\n",
      "---›EXTRAS TREES CLASSIFIER\n",
      "[[   4    0    0    0    0    0]\n",
      " [   0 2642    0    0    0    0]\n",
      " [   0    0 7848    0    0    0]\n",
      " [   0    0    0 5429    0    0]\n",
      " [   0    0    0    0 5468    0]\n",
      " [   0    0    0    0    0 2422]]\n",
      "              precision    recall  f1-score   support\n",
      "\n",
      "           1       1.00      1.00      1.00         4\n",
      "           2       1.00      1.00      1.00      2642\n",
      "           3       1.00      1.00      1.00      7848\n",
      "           4       1.00      1.00      1.00      5429\n",
      "           5       1.00      1.00      1.00      5468\n",
      "           6       1.00      1.00      1.00      2422\n",
      "\n",
      "    accuracy                           1.00     23813\n",
      "   macro avg       1.00      1.00      1.00     23813\n",
      "weighted avg       1.00      1.00      1.00     23813\n",
      "\n",
      "SCORE: 1.0\n"
     ]
    }
   ],
   "source": [
    "fts = data.drop('fanSpeed', axis=1).columns\n",
    "rf,dtf,knn,etc= train_models_eval(x_train,y_train,fts)"
   ]
  },
  {
   "cell_type": "markdown",
   "id": "2b57b02b-f9d7-40a5-a17a-ef44fc038bc5",
   "metadata": {},
   "source": [
    "### SMOTE"
   ]
  },
  {
   "cell_type": "code",
   "execution_count": 27,
   "id": "a795d7da-8254-4c0f-93e2-da0a3e03142a",
   "metadata": {},
   "outputs": [
    {
     "name": "stdout",
     "output_type": "stream",
     "text": [
      "fanSpeed\n",
      "3    18308\n",
      "5    12934\n",
      "4    12576\n",
      "2     6111\n",
      "6     5623\n",
      "1       11\n",
      "Name: count, dtype: int64\n"
     ]
    }
   ],
   "source": [
    "print(y_train.value_counts())"
   ]
  },
  {
   "cell_type": "code",
   "execution_count": 28,
   "id": "0d77eb03-9394-45a2-b1fe-6880313a34b2",
   "metadata": {},
   "outputs": [],
   "source": [
    "smote = SMOTE()"
   ]
  },
  {
   "cell_type": "code",
   "execution_count": 29,
   "id": "4718432d-4072-4a86-954b-c75a3435ea2a",
   "metadata": {},
   "outputs": [],
   "source": [
    "x_res_train,y_res_train = smote.fit_resample(x_train,y_train)"
   ]
  },
  {
   "cell_type": "code",
   "execution_count": 30,
   "id": "bd0a55cc-b4f9-45f4-9b62-e8b6c967d7f0",
   "metadata": {},
   "outputs": [
    {
     "data": {
      "text/html": [
       "<div>\n",
       "<style scoped>\n",
       "    .dataframe tbody tr th:only-of-type {\n",
       "        vertical-align: middle;\n",
       "    }\n",
       "\n",
       "    .dataframe tbody tr th {\n",
       "        vertical-align: top;\n",
       "    }\n",
       "\n",
       "    .dataframe thead th {\n",
       "        text-align: right;\n",
       "    }\n",
       "</style>\n",
       "<table border=\"1\" class=\"dataframe\">\n",
       "  <thead>\n",
       "    <tr style=\"text-align: right;\">\n",
       "      <th></th>\n",
       "      <th>temperature</th>\n",
       "      <th>humidity</th>\n",
       "    </tr>\n",
       "  </thead>\n",
       "  <tbody>\n",
       "    <tr>\n",
       "      <th>0</th>\n",
       "      <td>32</td>\n",
       "      <td>37</td>\n",
       "    </tr>\n",
       "    <tr>\n",
       "      <th>1</th>\n",
       "      <td>35</td>\n",
       "      <td>56</td>\n",
       "    </tr>\n",
       "    <tr>\n",
       "      <th>2</th>\n",
       "      <td>34</td>\n",
       "      <td>57</td>\n",
       "    </tr>\n",
       "    <tr>\n",
       "      <th>3</th>\n",
       "      <td>34</td>\n",
       "      <td>82</td>\n",
       "    </tr>\n",
       "    <tr>\n",
       "      <th>4</th>\n",
       "      <td>32</td>\n",
       "      <td>58</td>\n",
       "    </tr>\n",
       "    <tr>\n",
       "      <th>...</th>\n",
       "      <td>...</td>\n",
       "      <td>...</td>\n",
       "    </tr>\n",
       "    <tr>\n",
       "      <th>109843</th>\n",
       "      <td>34</td>\n",
       "      <td>82</td>\n",
       "    </tr>\n",
       "    <tr>\n",
       "      <th>109844</th>\n",
       "      <td>35</td>\n",
       "      <td>77</td>\n",
       "    </tr>\n",
       "    <tr>\n",
       "      <th>109845</th>\n",
       "      <td>34</td>\n",
       "      <td>90</td>\n",
       "    </tr>\n",
       "    <tr>\n",
       "      <th>109846</th>\n",
       "      <td>35</td>\n",
       "      <td>73</td>\n",
       "    </tr>\n",
       "    <tr>\n",
       "      <th>109847</th>\n",
       "      <td>35</td>\n",
       "      <td>73</td>\n",
       "    </tr>\n",
       "  </tbody>\n",
       "</table>\n",
       "<p>109848 rows × 2 columns</p>\n",
       "</div>"
      ],
      "text/plain": [
       "        temperature  humidity\n",
       "0                32        37\n",
       "1                35        56\n",
       "2                34        57\n",
       "3                34        82\n",
       "4                32        58\n",
       "...             ...       ...\n",
       "109843           34        82\n",
       "109844           35        77\n",
       "109845           34        90\n",
       "109846           35        73\n",
       "109847           35        73\n",
       "\n",
       "[109848 rows x 2 columns]"
      ]
     },
     "execution_count": 30,
     "metadata": {},
     "output_type": "execute_result"
    }
   ],
   "source": [
    "x_res_train"
   ]
  },
  {
   "cell_type": "code",
   "execution_count": 31,
   "id": "c022c28e-12df-4da1-b798-48881790ca3c",
   "metadata": {},
   "outputs": [
    {
     "data": {
      "text/plain": [
       "0         2\n",
       "1         5\n",
       "2         5\n",
       "3         6\n",
       "4         3\n",
       "         ..\n",
       "109843    6\n",
       "109844    6\n",
       "109845    6\n",
       "109846    6\n",
       "109847    6\n",
       "Name: fanSpeed, Length: 109848, dtype: int64"
      ]
     },
     "execution_count": 31,
     "metadata": {},
     "output_type": "execute_result"
    }
   ],
   "source": [
    "y_res_train"
   ]
  },
  {
   "cell_type": "code",
   "execution_count": 32,
   "id": "498efe8f-653c-4603-b02a-25a23e505b2a",
   "metadata": {},
   "outputs": [
    {
     "name": "stdout",
     "output_type": "stream",
     "text": [
      "\n",
      "---›RANDOM FOREST\n",
      "[[   4    0    0    0    0    0]\n",
      " [   0 2642    0    0    0    0]\n",
      " [   0    0 7848    0    0    0]\n",
      " [   0    0    0 5429    0    0]\n",
      " [   0    0    0    0 5468    0]\n",
      " [   0    0    0    0    0 2422]]\n",
      "              precision    recall  f1-score   support\n",
      "\n",
      "           1       1.00      1.00      1.00         4\n",
      "           2       1.00      1.00      1.00      2642\n",
      "           3       1.00      1.00      1.00      7848\n",
      "           4       1.00      1.00      1.00      5429\n",
      "           5       1.00      1.00      1.00      5468\n",
      "           6       1.00      1.00      1.00      2422\n",
      "\n",
      "    accuracy                           1.00     23813\n",
      "   macro avg       1.00      1.00      1.00     23813\n",
      "weighted avg       1.00      1.00      1.00     23813\n",
      "\n",
      "SCORE: 1.0\n",
      "\n",
      "---›DECISION TREE\n",
      "[[   4    0    0    0    0    0]\n",
      " [   0 2642    0    0    0    0]\n",
      " [   0    0 7848    0    0    0]\n",
      " [   0    0    0 5429    0    0]\n",
      " [   0    0    0    0 5468    0]\n",
      " [   0    0    0    0    0 2422]]\n",
      "              precision    recall  f1-score   support\n",
      "\n",
      "           1       1.00      1.00      1.00         4\n",
      "           2       1.00      1.00      1.00      2642\n",
      "           3       1.00      1.00      1.00      7848\n",
      "           4       1.00      1.00      1.00      5429\n",
      "           5       1.00      1.00      1.00      5468\n",
      "           6       1.00      1.00      1.00      2422\n",
      "\n",
      "    accuracy                           1.00     23813\n",
      "   macro avg       1.00      1.00      1.00     23813\n",
      "weighted avg       1.00      1.00      1.00     23813\n",
      "\n",
      "SCORE: 1.0\n",
      " \n",
      "--->KNN\n",
      "[[   4    0    0    0    0    0]\n",
      " [   0 2640    2    0    0    0]\n",
      " [   0    2 7843    3    0    0]\n",
      " [   0    0    0 5429    0    0]\n",
      " [   0    3    0    0 5465    0]\n",
      " [   0    0    0    0    0 2422]]\n",
      "              precision    recall  f1-score   support\n",
      "\n",
      "           1       1.00      1.00      1.00         4\n",
      "           2       1.00      1.00      1.00      2642\n",
      "           3       1.00      1.00      1.00      7848\n",
      "           4       1.00      1.00      1.00      5429\n",
      "           5       1.00      1.00      1.00      5468\n",
      "           6       1.00      1.00      1.00      2422\n",
      "\n",
      "    accuracy                           1.00     23813\n",
      "   macro avg       1.00      1.00      1.00     23813\n",
      "weighted avg       1.00      1.00      1.00     23813\n",
      "\n",
      "SCORE: 0.9995800613110486\n",
      "\n",
      "---›EXTRAS TREES CLASSIFIER\n",
      "[[   4    0    0    0    0    0]\n",
      " [   0 2642    0    0    0    0]\n",
      " [   0    0 7848    0    0    0]\n",
      " [   0    0    0 5429    0    0]\n",
      " [   0    0    0    0 5468    0]\n",
      " [   0    0    0    0    0 2422]]\n",
      "              precision    recall  f1-score   support\n",
      "\n",
      "           1       1.00      1.00      1.00         4\n",
      "           2       1.00      1.00      1.00      2642\n",
      "           3       1.00      1.00      1.00      7848\n",
      "           4       1.00      1.00      1.00      5429\n",
      "           5       1.00      1.00      1.00      5468\n",
      "           6       1.00      1.00      1.00      2422\n",
      "\n",
      "    accuracy                           1.00     23813\n",
      "   macro avg       1.00      1.00      1.00     23813\n",
      "weighted avg       1.00      1.00      1.00     23813\n",
      "\n",
      "SCORE: 1.0\n"
     ]
    }
   ],
   "source": [
    "rf,dtf,knn,etc = train_models_eval(x_res_train,y_res_train,fts)"
   ]
  },
  {
   "cell_type": "code",
   "execution_count": 33,
   "id": "a62fb4f2-8b1c-4187-87f8-ea48e860bf86",
   "metadata": {},
   "outputs": [
    {
     "name": "stdout",
     "output_type": "stream",
     "text": [
      "Counter({3: 18308, 5: 12934, 4: 12576, 2: 6111, 6: 5623, 1: 11})\n"
     ]
    }
   ],
   "source": [
    "from collections import Counter\n",
    "print(Counter(y_train))  # Check the class distribution after SMOTE\n"
   ]
  },
  {
   "cell_type": "code",
   "execution_count": 34,
   "id": "f7532cad-601c-4888-9ec9-e536c7f33171",
   "metadata": {},
   "outputs": [],
   "source": [
    "from imblearn.over_sampling import BorderlineSMOTE\n",
    "\n",
    "smote = BorderlineSMOTE()\n",
    "X_train_balanced, y_train_balanced = smote.fit_resample(x_train, y_train)\n"
   ]
  },
  {
   "cell_type": "code",
   "execution_count": 35,
   "id": "83d270a3-0ba5-445d-b36c-42c23e43707e",
   "metadata": {},
   "outputs": [
    {
     "name": "stdout",
     "output_type": "stream",
     "text": [
      "\n",
      "---›RANDOM FOREST\n",
      "[[   4    0    0    0    0    0]\n",
      " [   0 2642    0    0    0    0]\n",
      " [   0    0 7848    0    0    0]\n",
      " [   0    0    0 5429    0    0]\n",
      " [   0    0    0    0 5468    0]\n",
      " [   0    0    0    0    0 2422]]\n",
      "              precision    recall  f1-score   support\n",
      "\n",
      "           1       1.00      1.00      1.00         4\n",
      "           2       1.00      1.00      1.00      2642\n",
      "           3       1.00      1.00      1.00      7848\n",
      "           4       1.00      1.00      1.00      5429\n",
      "           5       1.00      1.00      1.00      5468\n",
      "           6       1.00      1.00      1.00      2422\n",
      "\n",
      "    accuracy                           1.00     23813\n",
      "   macro avg       1.00      1.00      1.00     23813\n",
      "weighted avg       1.00      1.00      1.00     23813\n",
      "\n",
      "SCORE: 1.0\n",
      "\n",
      "---›DECISION TREE\n",
      "[[   4    0    0    0    0    0]\n",
      " [   0 2642    0    0    0    0]\n",
      " [   0    0 7848    0    0    0]\n",
      " [   0    0    0 5429    0    0]\n",
      " [   0    0    0    0 5468    0]\n",
      " [   0    0    0    0    0 2422]]\n",
      "              precision    recall  f1-score   support\n",
      "\n",
      "           1       1.00      1.00      1.00         4\n",
      "           2       1.00      1.00      1.00      2642\n",
      "           3       1.00      1.00      1.00      7848\n",
      "           4       1.00      1.00      1.00      5429\n",
      "           5       1.00      1.00      1.00      5468\n",
      "           6       1.00      1.00      1.00      2422\n",
      "\n",
      "    accuracy                           1.00     23813\n",
      "   macro avg       1.00      1.00      1.00     23813\n",
      "weighted avg       1.00      1.00      1.00     23813\n",
      "\n",
      "SCORE: 1.0\n",
      " \n",
      "--->KNN\n",
      "[[   4    0    0    0    0    0]\n",
      " [   6 2634    2    0    0    0]\n",
      " [   0    4 7841    3    0    0]\n",
      " [   0    0    0 5429    0    0]\n",
      " [   0    3    0    0 5465    0]\n",
      " [   0    0    0    0    0 2422]]\n",
      "              precision    recall  f1-score   support\n",
      "\n",
      "           1       0.40      1.00      0.57         4\n",
      "           2       1.00      1.00      1.00      2642\n",
      "           3       1.00      1.00      1.00      7848\n",
      "           4       1.00      1.00      1.00      5429\n",
      "           5       1.00      1.00      1.00      5468\n",
      "           6       1.00      1.00      1.00      2422\n",
      "\n",
      "    accuracy                           1.00     23813\n",
      "   macro avg       0.90      1.00      0.93     23813\n",
      "weighted avg       1.00      1.00      1.00     23813\n",
      "\n",
      "SCORE: 0.9992441103598875\n",
      "\n",
      "---›EXTRAS TREES CLASSIFIER\n",
      "[[   4    0    0    0    0    0]\n",
      " [   0 2642    0    0    0    0]\n",
      " [   0    0 7848    0    0    0]\n",
      " [   0    0    0 5429    0    0]\n",
      " [   0    0    0    0 5468    0]\n",
      " [   0    0    0    0    0 2422]]\n",
      "              precision    recall  f1-score   support\n",
      "\n",
      "           1       1.00      1.00      1.00         4\n",
      "           2       1.00      1.00      1.00      2642\n",
      "           3       1.00      1.00      1.00      7848\n",
      "           4       1.00      1.00      1.00      5429\n",
      "           5       1.00      1.00      1.00      5468\n",
      "           6       1.00      1.00      1.00      2422\n",
      "\n",
      "    accuracy                           1.00     23813\n",
      "   macro avg       1.00      1.00      1.00     23813\n",
      "weighted avg       1.00      1.00      1.00     23813\n",
      "\n",
      "SCORE: 1.0\n"
     ]
    }
   ],
   "source": [
    "# Define the features to be used for training\n",
    "fts = x_train.columns  # Use all features or specify the feature names as needed\n",
    "\n",
    "# Train and evaluate models\n",
    "rf, dtf, knn, etc= train_models_eval(X_train_balanced, y_train_balanced, fts)\n"
   ]
  },
  {
   "cell_type": "code",
   "execution_count": 36,
   "id": "09d6bf8d-4db3-4207-a8b4-b5738aab8939",
   "metadata": {},
   "outputs": [
    {
     "data": {
      "text/plain": [
       "['dtf.pkl']"
      ]
     },
     "execution_count": 36,
     "metadata": {},
     "output_type": "execute_result"
    }
   ],
   "source": [
    "from sklearn.tree import DecisionTreeClassifier\n",
    "import joblib\n",
    "\n",
    "# Assuming dtf is already trained\n",
    "# Save the model to a file named 'dtf.pkl'\n",
    "joblib.dump(dtf, 'dtf.pkl')\n",
    "\n",
    "# To load the model later\n",
    "# dtf_loaded = joblib.load('dtf.pkl')\n"
   ]
  },
  {
   "cell_type": "code",
   "execution_count": 37,
   "id": "2274b027-be5c-4e35-9f8e-c0d1f459d5ac",
   "metadata": {},
   "outputs": [
    {
     "name": "stdout",
     "output_type": "stream",
     "text": [
      "|--- humidity <= 72.50\n",
      "|   |--- temperature <= 33.50\n",
      "|   |   |--- temperature <= 26.50\n",
      "|   |   |   |--- humidity <= 45.50\n",
      "|   |   |   |   |--- temperature <= 25.50\n",
      "|   |   |   |   |   |--- humidity <= 44.50\n",
      "|   |   |   |   |   |   |--- class: 1\n",
      "|   |   |   |   |   |--- humidity >  44.50\n",
      "|   |   |   |   |   |   |--- temperature <= 24.50\n",
      "|   |   |   |   |   |   |   |--- class: 1\n",
      "|   |   |   |   |   |   |--- temperature >  24.50\n",
      "|   |   |   |   |   |   |   |--- class: 2\n",
      "|   |   |   |   |--- temperature >  25.50\n",
      "|   |   |   |   |   |--- class: 2\n",
      "|   |   |   |--- humidity >  45.50\n",
      "|   |   |   |   |--- temperature <= 25.50\n",
      "|   |   |   |   |   |--- class: 2\n",
      "|   |   |   |   |--- temperature >  25.50\n",
      "|   |   |   |   |   |--- class: 3\n",
      "|   |   |--- temperature >  26.50\n",
      "|   |   |   |--- humidity <= 45.50\n",
      "|   |   |   |   |--- class: 2\n",
      "|   |   |   |--- humidity >  45.50\n",
      "|   |   |   |   |--- class: 3\n",
      "|   |--- temperature >  33.50\n",
      "|   |   |--- class: 5\n",
      "|--- humidity >  72.50\n",
      "|   |--- temperature <= 33.50\n",
      "|   |   |--- temperature <= 25.50\n",
      "|   |   |   |--- class: 3\n",
      "|   |   |--- temperature >  25.50\n",
      "|   |   |   |--- class: 4\n",
      "|   |--- temperature >  33.50\n",
      "|   |   |--- class: 6\n",
      "\n"
     ]
    }
   ],
   "source": [
    "from sklearn.tree import export_text\n",
    "\n",
    "tree_rules = export_text(dtf, feature_names=fts)\n",
    "print(tree_rules)\n"
   ]
  },
  {
   "cell_type": "code",
   "execution_count": 1,
   "id": "d13d9036-1e8b-45ec-b71e-0a4c0a4d7e92",
   "metadata": {},
   "outputs": [
    {
     "name": "stdout",
     "output_type": "stream",
     "text": [
      "Prediction: [6]\n"
     ]
    },
    {
     "name": "stderr",
     "output_type": "stream",
     "text": [
      "/opt/anaconda3/lib/python3.12/site-packages/sklearn/base.py:493: UserWarning: X does not have valid feature names, but DecisionTreeClassifier was fitted with feature names\n",
      "  warnings.warn(\n"
     ]
    }
   ],
   "source": [
    "import joblib\n",
    "import numpy as np\n",
    "\n",
    "# Load the saved model\n",
    "dtf = joblib.load('dtf.pkl')\n",
    "\n",
    "sample_input = np.array([[36,89]]) \n",
    "\n",
    "# Make a prediction\n",
    "prediction = dtf.predict(sample_input)\n",
    "print(\"Prediction:\", prediction)"
   ]
  },
  {
   "cell_type": "code",
   "execution_count": 5,
   "id": "0fe5bc75-bbea-4706-b7bc-47477b20c8a2",
   "metadata": {},
   "outputs": [
    {
     "name": "stdout",
     "output_type": "stream",
     "text": [
      "Collecting numpy<2\n",
      "  Downloading numpy-1.26.4-cp312-cp312-macosx_11_0_arm64.whl.metadata (61 kB)\n",
      "Downloading numpy-1.26.4-cp312-cp312-macosx_11_0_arm64.whl (13.7 MB)\n",
      "\u001b[2K   \u001b[90m━━━━━━━━━━━━━━━━━━━━━━━━━━━━━━━━━━━━━━━━\u001b[0m \u001b[32m13.7/13.7 MB\u001b[0m \u001b[31m723.7 kB/s\u001b[0m eta \u001b[36m0:00:00\u001b[0m00:01\u001b[0m00:01\u001b[0m\n",
      "\u001b[?25hInstalling collected packages: numpy\n",
      "  Attempting uninstall: numpy\n",
      "    Found existing installation: numpy 2.1.3\n",
      "    Uninstalling numpy-2.1.3:\n",
      "      Successfully uninstalled numpy-2.1.3\n",
      "Successfully installed numpy-1.26.4\n",
      "Note: you may need to restart the kernel to use updated packages.\n"
     ]
    }
   ],
   "source": [
    "pip install \"numpy<2\"\n"
   ]
  },
  {
   "cell_type": "code",
   "execution_count": 7,
   "id": "1c5b3fae-fd7f-46fd-b14d-cff95d08abf6",
   "metadata": {},
   "outputs": [
    {
     "name": "stdout",
     "output_type": "stream",
     "text": [
      "Sample prediction: [5.]\n"
     ]
    },
    {
     "name": "stderr",
     "output_type": "stream",
     "text": [
      "/opt/anaconda3/lib/python3.12/site-packages/sklearn/base.py:493: UserWarning: X does not have valid feature names, but DecisionTreeRegressor was fitted with feature names\n",
      "  warnings.warn(\n"
     ]
    }
   ],
   "source": [
    "import pickle\n",
    "\n",
    "# Load the model\n",
    "with open('dtf_updated.pkl', 'rb') as f:\n",
    "    model = pickle.load(f)\n",
    "\n",
    "# Test if the model has the predict attribute\n",
    "try:\n",
    "    sample_data = [[34, 45]]  # Replace with sample values for temperature and humidity\n",
    "    prediction = model.predict(sample_data)\n",
    "    print(\"Sample prediction:\", prediction)\n",
    "except AttributeError:\n",
    "    print(\"The model does not have a predict method.\")\n"
   ]
  },
  {
   "cell_type": "code",
   "execution_count": 3,
   "id": "98d4bcc3-d4c2-436c-b5f6-f00cd51eddb9",
   "metadata": {},
   "outputs": [
    {
     "name": "stdout",
     "output_type": "stream",
     "text": [
      "Model saved as dtf.pkl\n"
     ]
    }
   ],
   "source": [
    "import pandas as pd\n",
    "from sklearn.tree import DecisionTreeRegressor\n",
    "import pickle\n",
    "\n",
    "# Load the dataset\n",
    "data = pd.read_csv('newTrain.csv')\n",
    "\n",
    "# Split features and target\n",
    "X = data[['temperature', 'humidity']]\n",
    "y = data['fanSpeed']\n",
    "\n",
    "# Initialize and train the decision tree model\n",
    "model = DecisionTreeRegressor()\n",
    "model.fit(X, y)\n",
    "\n",
    "# Save the trained model as dtf.pkl\n",
    "with open('dtf_updated.pkl', 'wb') as file:\n",
    "    pickle.dump(model, file)\n",
    "\n",
    "print(\"Model saved as dtf.pkl\")\n"
   ]
  },
  {
   "cell_type": "code",
   "execution_count": 13,
   "id": "5bacac02-de6b-4956-b579-2c181d103727",
   "metadata": {},
   "outputs": [
    {
     "name": "stdout",
     "output_type": "stream",
     "text": [
      "KNN model saved as knn.pkl\n"
     ]
    }
   ],
   "source": [
    "import pandas as pd\n",
    "from sklearn.neighbors import KNeighborsRegressor\n",
    "import pickle\n",
    "\n",
    "# Load the dataset\n",
    "data = pd.read_csv('newTrain.csv')\n",
    "\n",
    "# Split features and target\n",
    "X = data[['temperature', 'humidity']]\n",
    "y = data['fanSpeed']\n",
    "\n",
    "# Initialize and train the KNN model\n",
    "knn_model = KNeighborsRegressor(n_neighbors=5)\n",
    "knn_model.fit(X, y)\n",
    "\n",
    "# Save the trained KNN model as knn.pkl\n",
    "with open('knn.pkl', 'wb') as file:\n",
    "    pickle.dump(knn_model, file)\n",
    "\n",
    "print(\"KNN model saved as knn.pkl\")\n"
   ]
  },
  {
   "cell_type": "code",
   "execution_count": 7,
   "id": "5fe665a1-062d-4846-9fda-c72da6f5a267",
   "metadata": {},
   "outputs": [
    {
     "name": "stdout",
     "output_type": "stream",
     "text": [
      "[6]\n"
     ]
    },
    {
     "name": "stderr",
     "output_type": "stream",
     "text": [
      "/opt/anaconda3/lib/python3.12/site-packages/sklearn/base.py:376: InconsistentVersionWarning: Trying to unpickle estimator DecisionTreeClassifier from version 1.5.1 when using version 1.5.2. This might lead to breaking code or invalid results. Use at your own risk. For more info please refer to:\n",
      "https://scikit-learn.org/stable/model_persistence.html#security-maintainability-limitations\n",
      "  warnings.warn(\n"
     ]
    }
   ],
   "source": [
    "import joblib\n",
    "import numpy as np\n",
    "import pandas as pd\n",
    "\n",
    "# Load the saved DecisionTreeRegressor model\n",
    "dtf_model = joblib.load(r'dtf.pkl')\n",
    "\n",
    "# Sample input for prediction (temperature, humidity)\n",
    "sample_input = np.array([[36, 89]])\n",
    "\n",
    "# Convert the input to a DataFrame with the same column names as the training data\n",
    "input_df = pd.DataFrame(sample_input, columns=['temperature', 'humidity'])\n",
    "\n",
    "# Predict with the model using the DataFrame input\n",
    "prediction = dtf_model.predict(input_df)\n",
    "\n",
    "# Print the prediction\n",
    "print(prediction)\n"
   ]
  },
  {
   "cell_type": "code",
   "execution_count": 9,
   "id": "f38bba68-5567-4769-8bcc-3cc45462e23d",
   "metadata": {},
   "outputs": [
    {
     "name": "stdout",
     "output_type": "stream",
     "text": [
      "1.5.2\n"
     ]
    }
   ],
   "source": [
    "import sklearn\n",
    "print(sklearn.__version__)\n"
   ]
  },
  {
   "cell_type": "code",
   "execution_count": null,
   "id": "3a64ea91-2f05-46bf-9bc1-5d44bf66dd5b",
   "metadata": {},
   "outputs": [],
   "source": []
  }
 ],
 "metadata": {
  "kernelspec": {
   "display_name": "Python 3 (ipykernel)",
   "language": "python",
   "name": "python3"
  },
  "language_info": {
   "codemirror_mode": {
    "name": "ipython",
    "version": 3
   },
   "file_extension": ".py",
   "mimetype": "text/x-python",
   "name": "python",
   "nbconvert_exporter": "python",
   "pygments_lexer": "ipython3",
   "version": "3.12.7"
  }
 },
 "nbformat": 4,
 "nbformat_minor": 5
}
